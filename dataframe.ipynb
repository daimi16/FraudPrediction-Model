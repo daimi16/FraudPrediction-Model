{
 "cells": [
  {
   "cell_type": "code",
   "execution_count": 4,
   "id": "059cfa6c",
   "metadata": {},
   "outputs": [],
   "source": [
    "import pandas as pd"
   ]
  },
  {
   "cell_type": "code",
   "execution_count": 17,
   "id": "814c1149",
   "metadata": {},
   "outputs": [],
   "source": [
    "step=99"
   ]
  },
  {
   "cell_type": "code",
   "execution_count": 24,
   "id": "ee62cc0f",
   "metadata": {},
   "outputs": [],
   "source": [
    "type=5"
   ]
  },
  {
   "cell_type": "code",
   "execution_count": 7,
   "id": "e9d7848d",
   "metadata": {},
   "outputs": [],
   "source": [
    "amount=12660.25"
   ]
  },
  {
   "cell_type": "code",
   "execution_count": 8,
   "id": "b8efdb0c",
   "metadata": {},
   "outputs": [],
   "source": [
    "oldbalanceOrg=106731.00"
   ]
  },
  {
   "cell_type": "code",
   "execution_count": 9,
   "id": "ff143634",
   "metadata": {},
   "outputs": [],
   "source": [
    "newbalanceOrig=94070.75"
   ]
  },
  {
   "cell_type": "code",
   "execution_count": 10,
   "id": "92585960",
   "metadata": {},
   "outputs": [],
   "source": [
    "oldbalanceDest=13600.49"
   ]
  },
  {
   "cell_type": "code",
   "execution_count": 11,
   "id": "b31e24f6",
   "metadata": {},
   "outputs": [],
   "source": [
    "newbalanceDest=26260.74"
   ]
  },
  {
   "cell_type": "code",
   "execution_count": 12,
   "id": "9178a242",
   "metadata": {},
   "outputs": [],
   "source": [
    "isFlaggedFraud=0"
   ]
  },
  {
   "cell_type": "code",
   "execution_count": 13,
   "id": "b883c31a",
   "metadata": {},
   "outputs": [],
   "source": [
    "columns = ['step','type','amount','oldbalanceOrg','newbalanceOrig','oldbalanceDest','newbalanceDest','isFlaggedFraud']"
   ]
  },
  {
   "cell_type": "code",
   "execution_count": 25,
   "id": "e9bb5666",
   "metadata": {},
   "outputs": [],
   "source": [
    "data = {\n",
    "      'step':[step],\n",
    "      'type':[type],\n",
    "      'amount':[amount],\n",
    "      'oldbalanceOrg':[oldbalanceOrg],\n",
    "      'newbalanceOrig':[newbalanceOrig],\n",
    "      'oldbalanceDest':[oldbalanceDest],\n",
    "      'newbalanceDest':[newbalanceDest],\n",
    "      'isFlaggedFraud':[isFlaggedFraud]\n",
    "       }"
   ]
  },
  {
   "cell_type": "code",
   "execution_count": 26,
   "id": "bafa2f26",
   "metadata": {},
   "outputs": [],
   "source": [
    "details = pd.DataFrame(data,columns=columns)"
   ]
  },
  {
   "cell_type": "code",
   "execution_count": 27,
   "id": "a63e54fb",
   "metadata": {},
   "outputs": [
    {
     "data": {
      "text/html": [
       "<div>\n",
       "<style scoped>\n",
       "    .dataframe tbody tr th:only-of-type {\n",
       "        vertical-align: middle;\n",
       "    }\n",
       "\n",
       "    .dataframe tbody tr th {\n",
       "        vertical-align: top;\n",
       "    }\n",
       "\n",
       "    .dataframe thead th {\n",
       "        text-align: right;\n",
       "    }\n",
       "</style>\n",
       "<table border=\"1\" class=\"dataframe\">\n",
       "  <thead>\n",
       "    <tr style=\"text-align: right;\">\n",
       "      <th></th>\n",
       "      <th>step</th>\n",
       "      <th>type</th>\n",
       "      <th>amount</th>\n",
       "      <th>oldbalanceOrg</th>\n",
       "      <th>newbalanceOrig</th>\n",
       "      <th>oldbalanceDest</th>\n",
       "      <th>newbalanceDest</th>\n",
       "      <th>isFlaggedFraud</th>\n",
       "    </tr>\n",
       "  </thead>\n",
       "  <tbody>\n",
       "    <tr>\n",
       "      <th>0</th>\n",
       "      <td>99</td>\n",
       "      <td>5</td>\n",
       "      <td>12660.25</td>\n",
       "      <td>106731.0</td>\n",
       "      <td>94070.75</td>\n",
       "      <td>13600.49</td>\n",
       "      <td>26260.74</td>\n",
       "      <td>0</td>\n",
       "    </tr>\n",
       "  </tbody>\n",
       "</table>\n",
       "</div>"
      ],
      "text/plain": [
       "   step  type    amount  oldbalanceOrg  newbalanceOrig  oldbalanceDest  \\\n",
       "0    99     5  12660.25       106731.0        94070.75        13600.49   \n",
       "\n",
       "   newbalanceDest  isFlaggedFraud  \n",
       "0        26260.74               0  "
      ]
     },
     "execution_count": 27,
     "metadata": {},
     "output_type": "execute_result"
    }
   ],
   "source": [
    "details"
   ]
  },
  {
   "cell_type": "code",
   "execution_count": 28,
   "id": "0ae1a4d7",
   "metadata": {},
   "outputs": [
    {
     "data": {
      "text/plain": [
       "step                int64\n",
       "type                int64\n",
       "amount            float64\n",
       "oldbalanceOrg     float64\n",
       "newbalanceOrig    float64\n",
       "oldbalanceDest    float64\n",
       "newbalanceDest    float64\n",
       "isFlaggedFraud      int64\n",
       "dtype: object"
      ]
     },
     "execution_count": 28,
     "metadata": {},
     "output_type": "execute_result"
    }
   ],
   "source": [
    "details.dtypes"
   ]
  },
  {
   "cell_type": "code",
   "execution_count": null,
   "id": "b795c040",
   "metadata": {},
   "outputs": [],
   "source": []
  }
 ],
 "metadata": {
  "kernelspec": {
   "display_name": "Python 3 (ipykernel)",
   "language": "python",
   "name": "python3"
  },
  "language_info": {
   "codemirror_mode": {
    "name": "ipython",
    "version": 3
   },
   "file_extension": ".py",
   "mimetype": "text/x-python",
   "name": "python",
   "nbconvert_exporter": "python",
   "pygments_lexer": "ipython3",
   "version": "3.9.12"
  }
 },
 "nbformat": 4,
 "nbformat_minor": 5
}
